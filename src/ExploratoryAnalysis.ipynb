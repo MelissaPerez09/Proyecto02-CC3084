{
 "cells": [
  {
   "cell_type": "markdown",
   "metadata": {},
   "source": [
    "# Análisis Exploratorio\n",
    "## Tema 13: Identificación de menciones de entidades biomédicas en resúmenes de investigación\n",
    "\n",
    "Integrantes:\n",
    "- José Ricardo Méndez González, 21289\n",
    "- Sara María Pérez Echeverría, 21371\n",
    "- Emily Elvia Melissa Pérez Alarcón, 21385\n",
    "- Adrian Fulladolsa Palma, 21592"
   ]
  },
  {
   "cell_type": "markdown",
   "metadata": {},
   "source": [
    "### Librerías"
   ]
  },
  {
   "cell_type": "code",
   "execution_count": null,
   "metadata": {},
   "outputs": [],
   "source": []
  },
  {
   "cell_type": "markdown",
   "metadata": {},
   "source": [
    "### Importación de los datos"
   ]
  },
  {
   "cell_type": "code",
   "execution_count": null,
   "metadata": {},
   "outputs": [],
   "source": []
  }
 ],
 "metadata": {
  "language_info": {
   "name": "python"
  }
 },
 "nbformat": 4,
 "nbformat_minor": 2
}
